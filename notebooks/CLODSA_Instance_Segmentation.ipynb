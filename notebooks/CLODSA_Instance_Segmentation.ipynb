{
 "cells": [
  {
   "cell_type": "markdown",
   "metadata": {
    "colab_type": "text",
    "id": "view-in-github"
   },
   "source": [
    "[View in Colaboratory](https://colab.research.google.com/github/joheras/CLoDSA/blob/master/notebooks/CLODSA_Instance_Segmentation.ipynb)"
   ]
  },
  {
   "cell_type": "markdown",
   "metadata": {
    "colab_type": "text",
    "id": "GxQekSqTht6I"
   },
   "source": [
    "# Augmenting a dataset for instance segmentation\n",
    "\n",
    "In this notebook, we illustrate how CLODSA can be employed to augment a dataset of images devoted to instance segmentation that was annotated using the [COCO format](http://cocodataset.org/#home). "
   ]
  },
  {
   "cell_type": "markdown",
   "metadata": {
    "colab_type": "text",
    "id": "YC_9o6-Jht6M"
   },
   "source": [
    "We will use a small dataset of shapes. "
   ]
  },
  {
   "cell_type": "code",
   "execution_count": null,
   "metadata": {
    "colab": {
     "base_uri": "https://localhost:8080/",
     "height": 3838
    },
    "colab_type": "code",
    "id": "QNhd1Ttiht6Q",
    "outputId": "0268f0b6-eecc-436a-ee85-05915b5f5dfd"
   },
   "outputs": [
    {
     "name": "stdout",
     "output_type": "stream",
     "text": [
      "--2019-01-15 17:35:03--  https://www.dropbox.com/s/eus5u6ug1s7ftzc/shapes.zip?dl=0\n",
      "Resolviendo www.dropbox.com (www.dropbox.com)... 162.125.68.1, 2620:100:6024:1::a27d:4401\n",
      "Conectando con www.dropbox.com (www.dropbox.com)[162.125.68.1]:443... conectado.\n",
      "Petición HTTP enviada, esperando respuesta... 301 Moved Permanently\n",
      "Ubicación: /s/raw/eus5u6ug1s7ftzc/shapes.zip [siguiente]\n",
      "--2019-01-15 17:35:04--  https://www.dropbox.com/s/raw/eus5u6ug1s7ftzc/shapes.zip\n",
      "Reutilizando la conexión con www.dropbox.com:443.\n",
      "Petición HTTP enviada, esperando respuesta... 302 Found\n",
      "Ubicación: https://ucce5e242c0f21ffa214dc7126c0.dl.dropboxusercontent.com/cd/0/inline/AZe-aql4uVq-2oGHS61egHxKjN0Im7joTMlC0u0WfFX-snox0glphepgOREyXfAhY1GhvRknYq8BOZoQ8MRFqQYp-BBWU8XNejTnRcgFP3kz9-P0UjlA6vrTx_jPQ6ojjNci2ZfggZ0pxAUHegiJpy4Sm6AkvINM8RXLq0EVX41TqVQrUXiD0PvbinBsz1yHfDY/file [siguiente]\n",
      "--2019-01-15 17:35:04--  https://ucce5e242c0f21ffa214dc7126c0.dl.dropboxusercontent.com/cd/0/inline/AZe-aql4uVq-2oGHS61egHxKjN0Im7joTMlC0u0WfFX-snox0glphepgOREyXfAhY1GhvRknYq8BOZoQ8MRFqQYp-BBWU8XNejTnRcgFP3kz9-P0UjlA6vrTx_jPQ6ojjNci2ZfggZ0pxAUHegiJpy4Sm6AkvINM8RXLq0EVX41TqVQrUXiD0PvbinBsz1yHfDY/file\n",
      "Resolviendo ucce5e242c0f21ffa214dc7126c0.dl.dropboxusercontent.com (ucce5e242c0f21ffa214dc7126c0.dl.dropboxusercontent.com)... 162.125.68.6, 2620:100:6024:6::a27d:4406\n",
      "Conectando con ucce5e242c0f21ffa214dc7126c0.dl.dropboxusercontent.com (ucce5e242c0f21ffa214dc7126c0.dl.dropboxusercontent.com)[162.125.68.6]:443... conectado.\n",
      "Petición HTTP enviada, esperando respuesta... 302 FOUND\n",
      "Ubicación: /cd/0/inline2/AZcSUwDkdXheKjkylbVVK9wrCMZZzj_u_35CoSYWiXZr72aQcsDuhc33VhZ5CxR8288kQiALTDXpGc9DR7Edl8q7WWrAdXk92Ey2EDIbkIbhvlTV2IpjIqGJ8gKivMCUIOvG6U3AfnGTl6rQOGoBY-bk3Cv3jWUDu9ErhH-sgHnDZqQfTBv9NGu-G9wjWaA_xTQYu57JO-7uz466iNnnwB4xsT8gOu96-4z32N8z8GudqEDD_MpDEsoTM3AuvUzP4rlLWx4lwSP6dPC3PYHTWS9h6erXXG3iVRVAJULw-dWbWS4Lhmq2fHUGcZOeANWui2o4Ymm7PWbv4PUq_LG2BLD9j7jjFjXiTUdJTWElc91ytF14w577zBSfPSby3uGWCHUvGPd7N4eN9pKx7Fd1Kz5UW2buxo6IvcwEO_ELQtOLEqHbqUmFTKqFYM68tCiiaf4/file [siguiente]\n",
      "--2019-01-15 17:35:05--  https://ucce5e242c0f21ffa214dc7126c0.dl.dropboxusercontent.com/cd/0/inline2/AZcSUwDkdXheKjkylbVVK9wrCMZZzj_u_35CoSYWiXZr72aQcsDuhc33VhZ5CxR8288kQiALTDXpGc9DR7Edl8q7WWrAdXk92Ey2EDIbkIbhvlTV2IpjIqGJ8gKivMCUIOvG6U3AfnGTl6rQOGoBY-bk3Cv3jWUDu9ErhH-sgHnDZqQfTBv9NGu-G9wjWaA_xTQYu57JO-7uz466iNnnwB4xsT8gOu96-4z32N8z8GudqEDD_MpDEsoTM3AuvUzP4rlLWx4lwSP6dPC3PYHTWS9h6erXXG3iVRVAJULw-dWbWS4Lhmq2fHUGcZOeANWui2o4Ymm7PWbv4PUq_LG2BLD9j7jjFjXiTUdJTWElc91ytF14w577zBSfPSby3uGWCHUvGPd7N4eN9pKx7Fd1Kz5UW2buxo6IvcwEO_ELQtOLEqHbqUmFTKqFYM68tCiiaf4/file\n",
      "Reutilizando la conexión con ucce5e242c0f21ffa214dc7126c0.dl.dropboxusercontent.com:443.\n",
      "Petición HTTP enviada, esperando respuesta... 200 OK\n",
      "Longitud: 5202 (5,1K) [application/zip]\n",
      "Guardando como: “shapes.zip”\n",
      "\n",
      "shapes.zip          100%[===================>]   5,08K  --.-KB/s    en 0s      \n",
      "\n",
      "2019-01-15 17:35:05 (457 MB/s) - “shapes.zip” guardado [5202/5202]\n",
      "\n",
      "Archive:  shapes.zip\n",
      "replace shapes/1000.jpeg? [y]es, [n]o, [A]ll, [N]one, [r]ename: "
     ]
    }
   ],
   "source": [
    "!wget https://www.dropbox.com/s/eus5u6ug1s7ftzc/shapes.zip?dl=0 -O shapes.zip\n",
    "!unzip shapes.zip"
   ]
  },
  {
   "cell_type": "markdown",
   "metadata": {
    "colab_type": "text",
    "id": "kAy0Hvnbht6i"
   },
   "source": [
    "We can check the elements of the shapes folder that are a json file with the coco annotation and two images."
   ]
  },
  {
   "cell_type": "code",
   "execution_count": null,
   "metadata": {
    "colab": {
     "base_uri": "https://localhost:8080/",
     "height": 90
    },
    "colab_type": "code",
    "id": "XEJ0pRfRht6k",
    "outputId": "9cc7906d-f241-403d-b41e-7b8b4ff9112c"
   },
   "outputs": [],
   "source": [
    "!ls shapes/"
   ]
  },
  {
   "cell_type": "markdown",
   "metadata": {},
   "source": [
    "We create the output folder."
   ]
  },
  {
   "cell_type": "code",
   "execution_count": null,
   "metadata": {},
   "outputs": [],
   "source": [
    "!mkdir output"
   ]
  },
  {
   "cell_type": "markdown",
   "metadata": {
    "colab_type": "text",
    "id": "LaBilQHUht6u"
   },
   "source": [
    "## Augmentation techniques\n",
    "\n",
    "For this example, we consider three augmentation techniques. \n",
    "\n",
    "The augmentation techniques applied in this example are:\n",
    "- Rotation.\n",
    "- Flip."
   ]
  },
  {
   "cell_type": "markdown",
   "metadata": {
    "colab_type": "text",
    "id": "wCILufF2ht6y"
   },
   "source": [
    "## Installing the necessary libraries\n",
    "\n",
    "In case that CLODSA is not installed in your system, the first task consists in installing it using ``pip``."
   ]
  },
  {
   "cell_type": "code",
   "execution_count": null,
   "metadata": {
    "colab": {
     "base_uri": "https://localhost:8080/",
     "height": 617
    },
    "colab_type": "code",
    "id": "FWTm8dG3ht6y",
    "outputId": "ae3a8866-cbfb-4863-a357-248e1e56989c"
   },
   "outputs": [],
   "source": [
    "!pip install clodsa"
   ]
  },
  {
   "cell_type": "markdown",
   "metadata": {
    "colab_type": "text",
    "id": "I1q3x_OFht66"
   },
   "source": [
    "## Loading the necessary libraries\n",
    "\n",
    "The first step in the pipeline consists in loading the necessary libraries to apply the data augmentation techniques in CLODSA."
   ]
  },
  {
   "cell_type": "code",
   "execution_count": null,
   "metadata": {
    "colab": {
     "base_uri": "https://localhost:8080/",
     "height": 35
    },
    "colab_type": "code",
    "id": "JqWBswFyht68",
    "outputId": "77349188-126d-4e4d-93fa-929ec33ad573"
   },
   "outputs": [],
   "source": [
    "from matplotlib import pyplot as plt\n",
    "from clodsa.augmentors.augmentorFactory import createAugmentor\n",
    "from clodsa.augmentors.generator import Generator\n",
    "from clodsa.techniques.techniqueFactory import createTechnique\n",
    "import cv2\n",
    "%matplotlib inline"
   ]
  },
  {
   "cell_type": "markdown",
   "metadata": {
    "colab_type": "text",
    "id": "CBP59dqqht7E"
   },
   "source": [
    "## Creating the augmentor object\n",
    "\n",
    "As explained in the documentation of CLODSA, we need to specify some parameters for the augmentation process, and use them to create an augmentor object.  \n",
    "\n",
    "_The kind of problem_. In this case, we are working in an instance segmentation problem."
   ]
  },
  {
   "cell_type": "code",
   "execution_count": null,
   "metadata": {
    "colab": {},
    "colab_type": "code",
    "id": "zQ5q8WVnht7G"
   },
   "outputs": [],
   "source": [
    "PROBLEM = \"instance_segmentation\""
   ]
  },
  {
   "cell_type": "markdown",
   "metadata": {
    "colab_type": "text",
    "id": "D46gdf-4ht7K"
   },
   "source": [
    "_The annotation mode_. The annotation is provided using the coco format in a file called annotations.json. "
   ]
  },
  {
   "cell_type": "code",
   "execution_count": null,
   "metadata": {
    "colab": {},
    "colab_type": "code",
    "id": "rrlRg-FVht7M"
   },
   "outputs": [],
   "source": [
    "ANNOTATION_MODE = \"coco\""
   ]
  },
  {
   "cell_type": "markdown",
   "metadata": {
    "colab_type": "text",
    "id": "cn-uF33Oht7S"
   },
   "source": [
    "_The input path_. The input path containing the images. "
   ]
  },
  {
   "cell_type": "code",
   "execution_count": null,
   "metadata": {
    "colab": {},
    "colab_type": "code",
    "id": "78jPXCj2ht7U"
   },
   "outputs": [],
   "source": [
    "INPUT_PATH = \"shapes\""
   ]
  },
  {
   "cell_type": "markdown",
   "metadata": {
    "colab_type": "text",
    "id": "j9kGGhs4ht7a"
   },
   "source": [
    "_The generation mode_. In this case, linear, that is, all the augmentation techniques are applied to all the images of the original dataset. "
   ]
  },
  {
   "cell_type": "code",
   "execution_count": null,
   "metadata": {
    "colab": {},
    "colab_type": "code",
    "id": "KCweCzLeht7c"
   },
   "outputs": [],
   "source": [
    "GENERATION_MODE = \"linear\""
   ]
  },
  {
   "cell_type": "markdown",
   "metadata": {
    "colab_type": "text",
    "id": "o6WljljVht7g"
   },
   "source": [
    "_The output mode_. The generated images will be stored in a new folder called output.  "
   ]
  },
  {
   "cell_type": "code",
   "execution_count": null,
   "metadata": {
    "colab": {},
    "colab_type": "code",
    "id": "A4uKKcJUht7i"
   },
   "outputs": [],
   "source": [
    "OUTPUT_MODE = \"coco\"\n",
    "OUTPUT_PATH= \"output/\""
   ]
  },
  {
   "cell_type": "markdown",
   "metadata": {
    "colab_type": "text",
    "id": "9R79LEvVht7o"
   },
   "source": [
    "Using the above information, we can create our augmentor object. "
   ]
  },
  {
   "cell_type": "code",
   "execution_count": null,
   "metadata": {
    "colab": {},
    "colab_type": "code",
    "id": "CQ9wyiQuht7q"
   },
   "outputs": [],
   "source": [
    "augmentor = createAugmentor(PROBLEM,ANNOTATION_MODE,OUTPUT_MODE,GENERATION_MODE,INPUT_PATH,{\"outputPath\":OUTPUT_PATH})"
   ]
  },
  {
   "cell_type": "markdown",
   "metadata": {
    "colab_type": "text",
    "id": "iXOfuq90ht7w"
   },
   "source": [
    "## Adding the augmentation techniques\n",
    "\n",
    "Now, we define the techniques that will be applied in our augmentation process and add them to our augmentor object. To illustrate the transformations, we will use the following image of the dataset. \n",
    "\n"
   ]
  },
  {
   "cell_type": "markdown",
   "metadata": {
    "colab_type": "text",
    "id": "n4PfSKW-ht74"
   },
   "source": [
    "_Rotations:_"
   ]
  },
  {
   "cell_type": "code",
   "execution_count": null,
   "metadata": {
    "colab": {},
    "colab_type": "code",
    "id": "ajKE-mkDht74"
   },
   "outputs": [],
   "source": [
    "for angle in [90,180]:\n",
    "    rotate = createTechnique(\"rotate\", {\"angle\" : angle})\n",
    "    augmentor.addGenerator(Generator(rotate))"
   ]
  },
  {
   "cell_type": "markdown",
   "metadata": {},
   "source": [
    "_Flips:_"
   ]
  },
  {
   "cell_type": "code",
   "execution_count": null,
   "metadata": {},
   "outputs": [],
   "source": [
    "flip = createTechnique(\"flip\",{\"flip\":1})\n",
    "augmentor.addGenerator(Generator(flip))"
   ]
  },
  {
   "cell_type": "markdown",
   "metadata": {
    "colab_type": "text",
    "id": "WwE-qSYLht9I"
   },
   "source": [
    "## Applying the augmentation process\n",
    "\n",
    "Finally, we apply the augmentation process (this might take some time depending on the number of images of the original dataset and the number of transformations that will be applied). "
   ]
  },
  {
   "cell_type": "code",
   "execution_count": null,
   "metadata": {
    "colab": {},
    "colab_type": "code",
    "id": "lbW5YVE9ht9I"
   },
   "outputs": [],
   "source": [
    "augmentor.applyAugmentation()"
   ]
  },
  {
   "cell_type": "markdown",
   "metadata": {},
   "source": [
    "We can now check the elements of the output folder. "
   ]
  },
  {
   "cell_type": "code",
   "execution_count": null,
   "metadata": {},
   "outputs": [],
   "source": [
    "!ls output/"
   ]
  },
  {
   "cell_type": "markdown",
   "metadata": {},
   "source": [
    "Finally, we can visualize the results using some of the tools provided by [the COCO API](https://github.com/cocodataset/cocoapi)."
   ]
  },
  {
   "cell_type": "code",
   "execution_count": null,
   "metadata": {},
   "outputs": [],
   "source": [
    "!pip install pycocotools"
   ]
  },
  {
   "cell_type": "code",
   "execution_count": null,
   "metadata": {},
   "outputs": [],
   "source": [
    "%matplotlib inline\n",
    "from pycocotools.coco import COCO\n",
    "import numpy as np\n",
    "import skimage.io as io\n",
    "import matplotlib.pyplot as plt\n",
    "import pylab"
   ]
  },
  {
   "cell_type": "code",
   "execution_count": null,
   "metadata": {},
   "outputs": [],
   "source": [
    "image_directory = 'output/'\n",
    "annotation_file = 'output/annotation.json'"
   ]
  },
  {
   "cell_type": "code",
   "execution_count": null,
   "metadata": {},
   "outputs": [],
   "source": [
    "example_coco = COCO(annotation_file)"
   ]
  },
  {
   "cell_type": "code",
   "execution_count": null,
   "metadata": {},
   "outputs": [],
   "source": [
    "categories = example_coco.loadCats(example_coco.getCatIds())\n",
    "category_names = [category['name'] for category in categories]\n",
    "print('Custom COCO categories: \\n{}\\n'.format(' '.join(category_names)))\n",
    "\n",
    "category_names = set([category['supercategory'] for category in categories])\n",
    "print('Custom COCO supercategories: \\n{}'.format(' '.join(category_names)))"
   ]
  },
  {
   "cell_type": "markdown",
   "metadata": {},
   "source": [
    "Each execution of the following cells show a different image of the output dataset."
   ]
  },
  {
   "cell_type": "code",
   "execution_count": null,
   "metadata": {},
   "outputs": [],
   "source": [
    "category_ids = example_coco.getCatIds(catNms=['square'])\n",
    "image_ids = example_coco.getImgIds(catIds=category_ids)\n",
    "image_data = example_coco.loadImgs(image_ids[np.random.randint(0, len(image_ids))])[0]"
   ]
  },
  {
   "cell_type": "code",
   "execution_count": null,
   "metadata": {},
   "outputs": [],
   "source": [
    "image_data"
   ]
  },
  {
   "cell_type": "code",
   "execution_count": null,
   "metadata": {},
   "outputs": [],
   "source": [
    "image = io.imread(image_directory + image_data['file_name'])\n",
    "plt.imshow(image); plt.axis('off')\n",
    "pylab.rcParams['figure.figsize'] = (8.0, 10.0)\n",
    "annotation_ids = example_coco.getAnnIds(imgIds=image_data['id'], catIds=category_ids, iscrowd=None)\n",
    "annotations = example_coco.loadAnns(annotation_ids)\n",
    "example_coco.showAnns(annotations)"
   ]
  },
  {
   "cell_type": "markdown",
   "metadata": {},
   "source": [
    "If you are executing this notebook in Colaboratory, you need to download the generated files. To that aim, you can create a zip folder and download it using the following commands. "
   ]
  },
  {
   "cell_type": "code",
   "execution_count": null,
   "metadata": {},
   "outputs": [],
   "source": [
    "!zip -r shapes.zip output\n",
    "from google.colab import files\n",
    "files.download('shapes.zip')"
   ]
  }
 ],
 "metadata": {
  "colab": {
   "name": "CLODSA_Nuclei.ipynb",
   "provenance": [],
   "version": "0.3.2"
  },
  "kernelspec": {
   "display_name": "Python 3",
   "language": "python",
   "name": "python3"
  },
  "language_info": {
   "codemirror_mode": {
    "name": "ipython",
    "version": 3
   },
   "file_extension": ".py",
   "mimetype": "text/x-python",
   "name": "python",
   "nbconvert_exporter": "python",
   "pygments_lexer": "ipython3",
   "version": "3.6.7"
  }
 },
 "nbformat": 4,
 "nbformat_minor": 1
}
